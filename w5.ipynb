{
 "cells": [
  {
   "cell_type": "markdown",
   "id": "b2f7fcd2",
   "metadata": {},
   "source": [
    "# Policy Gradient Methods in Reinforcement Learning\n",
    "\n",
    "**Objective**: Learn and implement Policy Gradient methods, specifically the REINFORCE algorithm.\n",
    "\n",
    "## Key Concepts:\n",
    "- **Policy Gradient**: Directly optimize the policy parameters using gradient ascent\n",
    "- **REINFORCE**: A Monte Carlo policy gradient algorithm  \n",
    "- **Policy Network**: Neural network that outputs action probabilities\n",
    "- **Advantage**: How much better an action is compared to the average\n",
    "\n",
    "## Why Policy Gradients?\n",
    "- Can handle continuous action spaces\n",
    "- Can learn stochastic policies\n",
    "- More stable than value-based methods in some cases\n",
    "- Direct policy optimization"
   ]
  },
  {
   "cell_type": "code",
   "execution_count": 1,
   "id": "c6d77840",
   "metadata": {},
   "outputs": [
    {
     "name": "stdout",
     "output_type": "stream",
     "text": [
      "Policy Gradient setup complete!\n",
      "We'll implement REINFORCE algorithm step by step\n"
     ]
    }
   ],
   "source": [
    "# Simple imports for Policy Gradient\n",
    "import numpy as np\n",
    "import matplotlib.pyplot as plt\n",
    "\n",
    "np.random.seed(42)\n",
    "print(\"Policy Gradient setup ready!\")"
   ]
  },
  {
   "cell_type": "code",
   "execution_count": null,
   "id": "9b27b763",
   "metadata": {},
   "outputs": [],
   "source": [
    "# Environment: 3-armed bandit\n",
    "class SimpleBandit:\n",
    "    def __init__(self):\n",
    "        self.arm_probs = [0.2, 0.5, 0.8]  # arm 2 is best\n",
    "        \n",
    "    def step(self, action):\n",
    "        return 1.0 if np.random.random() < self.arm_probs[action] else 0.0\n",
    "\n",
    "env = SimpleBandit()"
   ]
  },
  {
   "cell_type": "code",
   "execution_count": null,
   "id": "e5a2b9de",
   "metadata": {},
   "outputs": [],
   "source": [
    "# Simple policy using action probabilities\n",
    "class SimplePolicy:\n",
    "    def __init__(self, n_actions=3, learning_rate=0.1):\n",
    "        self.n_actions = n_actions\n",
    "        self.lr = learning_rate\n",
    "        self.action_probs = np.ones(n_actions) / n_actions\n",
    "        \n",
    "    def get_action(self):\n",
    "        return np.random.choice(self.n_actions, p=self.action_probs)\n",
    "    \n",
    "    def update(self, action, reward):\n",
    "        baseline = 0.5  # simple baseline\n",
    "        advantage = reward - baseline\n",
    "        \n",
    "        # Update probabilities\n",
    "        for a in range(self.n_actions):\n",
    "            if a == action:\n",
    "                self.action_probs[a] += self.lr * advantage\n",
    "            else:\n",
    "                self.action_probs[a] -= self.lr * advantage / (self.n_actions - 1)\n",
    "        \n",
    "        # Keep probabilities valid\n",
    "        self.action_probs = np.maximum(self.action_probs, 0.01)\n",
    "        self.action_probs = self.action_probs / np.sum(self.action_probs)\n",
    "\n",
    "policy = SimplePolicy()"
   ]
  },
  {
   "cell_type": "code",
   "execution_count": null,
   "id": "351161d4",
   "metadata": {},
   "outputs": [],
   "source": [
    "# REINFORCE training\n",
    "def train_policy_gradient(env, policy, episodes=200):\n",
    "    rewards_history = []\n",
    "    \n",
    "    for episode in range(episodes):\n",
    "        action = policy.get_action()\n",
    "        reward = env.step(action)\n",
    "        policy.update(action, reward)\n",
    "        rewards_history.append(reward)\n",
    "    \n",
    "    return rewards_history\n",
    "\n",
    "# Train and visualize\n",
    "rewards = train_policy_gradient(env, policy, episodes=300)\n",
    "\n",
    "plt.figure(figsize=(12, 4))\n",
    "\n",
    "plt.subplot(1, 2, 1)\n",
    "plt.plot(rewards, alpha=0.3)\n",
    "window = 20\n",
    "moving_avg = [np.mean(rewards[max(0, i-window):i+1]) for i in range(len(rewards))]\n",
    "plt.plot(moving_avg, linewidth=2)\n",
    "plt.xlabel('Episode')\n",
    "plt.ylabel('Reward')\n",
    "plt.title('Learning Progress')\n",
    "\n",
    "plt.subplot(1, 2, 2)\n",
    "arms = ['Arm 0', 'Arm 1', 'Arm 2']\n",
    "plt.bar(arms, policy.action_probs, color=['red', 'orange', 'green'])\n",
    "plt.ylabel('Probability')\n",
    "plt.title('Final Policy')\n",
    "\n",
    "plt.tight_layout()\n",
    "plt.show()"
   ]
  },
  {
   "cell_type": "code",
   "execution_count": null,
   "id": "c51b12e4",
   "metadata": {},
   "outputs": [],
   "source": [
    "# Comparison with random policy\n",
    "class RandomPolicy:\n",
    "    def __init__(self, n_actions=3):\n",
    "        self.n_actions = n_actions\n",
    "    \n",
    "    def get_action(self):\n",
    "        return np.random.choice(self.n_actions)\n",
    "\n",
    "# Test both policies\n",
    "random_policy = RandomPolicy()\n",
    "\n",
    "pg_rewards = [env.step(policy.get_action()) for _ in range(100)]\n",
    "random_rewards = [env.step(random_policy.get_action()) for _ in range(100)]\n",
    "\n",
    "plt.figure(figsize=(8, 4))\n",
    "plt.bar(['Random', 'Policy Gradient'], \n",
    "        [np.mean(random_rewards), np.mean(pg_rewards)], \n",
    "        color=['red', 'blue'])\n",
    "plt.ylabel('Average Reward')\n",
    "plt.title('Policy Comparison')\n",
    "plt.show()\n",
    "\n",
    "print(f\"Random Policy: {np.mean(random_rewards):.3f}\")\n",
    "print(f\"Policy Gradient: {np.mean(pg_rewards):.3f}\")"
   ]
  },
  {
   "cell_type": "code",
   "execution_count": null,
   "id": "07268032",
   "metadata": {},
   "outputs": [],
   "source": [
    "# Final results\n",
    "print(\"Policy learned to prefer the best arm:\")\n",
    "for i, prob in enumerate(policy.action_probs):\n",
    "    print(f\"Arm {i}: {prob:.3f}\")\n",
    "print(f\"Best arm (2) has highest probability: {policy.action_probs[2]:.3f}\")"
   ]
  },
  {
   "cell_type": "code",
   "execution_count": null,
   "id": "0dd4d797",
   "metadata": {},
   "outputs": [],
   "source": [
    "# Policy Gradient summary\n",
    "print(\"Policy Gradient Method:\")\n",
    "print(\"- Directly optimizes action probabilities\")\n",
    "print(\"- Increases probability of good actions\") \n",
    "print(\"- Decreases probability of bad actions\")\n",
    "print(\"- Works for continuous and discrete actions\")\n",
    "\n",
    "print(f\"\\nBaseline variance reduction example:\")\n",
    "returns = np.array([10, 8, 12, 6, 14])\n",
    "baseline = np.mean(returns)\n",
    "advantages = returns - baseline\n",
    "print(f\"Returns: {returns}\")\n",
    "print(f\"Advantages: {advantages}\")\n",
    "print(f\"Variance reduced from {np.var(returns):.1f} to {np.var(advantages):.1f}\")"
   ]
  }
 ],
 "metadata": {
  "kernelspec": {
   "display_name": "Python 3",
   "language": "python",
   "name": "python3"
  },
  "language_info": {
   "codemirror_mode": {
    "name": "ipython",
    "version": 3
   },
   "file_extension": ".py",
   "mimetype": "text/x-python",
   "name": "python",
   "nbconvert_exporter": "python",
   "pygments_lexer": "ipython3",
   "version": "3.12.3"
  }
 },
 "nbformat": 4,
 "nbformat_minor": 5
}
