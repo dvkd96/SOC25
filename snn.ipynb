{
 "cells": [
  {
   "cell_type": "code",
   "execution_count": null,
   "id": "e699b47a",
   "metadata": {},
   "outputs": [],
   "source": []
  },
  {
   "cell_type": "markdown",
   "id": "0cda9812",
   "metadata": {},
   "source": [
    "# Simple Spiking Neural Network (SNN) for Binary Classification\n",
    "\n",
    "This notebook demonstrates a basic SNN that can classify two types of input patterns, such as distinguishing between two digits from the MNIST dataset."
   ]
  },
  {
   "cell_type": "code",
   "execution_count": null,
   "id": "6fec9fde",
   "metadata": {},
   "outputs": [],
   "source": [
    "import numpy as np\n",
    "\n",
    "class EasySNN:\n",
    "    def __init__(self, input_size, output_size):\n",
    "        self.input_size = input_size\n",
    "        self.output_size = output_size\n",
    "        self.weights = np.random.rand(output_size, input_size)\n",
    "        self.learning_rate = 0.01\n",
    "\n",
    "    def forward(self, x):\n",
    "        summed = np.dot(self.weights, x)\n",
    "        output_spikes = (summed > 0.5).astype(float)\n",
    "        return output_spikes\n",
    "\n",
    "    def train(self, x, y):\n",
    "        output = self.forward(x)\n",
    "        for i in range(self.output_size):\n",
    "            for j in range(self.input_size):\n",
    "                if x[j] == 1 and y[i] == 1:\n",
    "                    self.weights[i, j] += self.learning_rate\n",
    "                elif x[j] == 1 and y[i] == 0:\n",
    "                    self.weights[i, j] -= self.learning_rate\n",
    "        self.weights = np.clip(self.weights, 0, 1)\n"
   ]
  },
  {
   "cell_type": "markdown",
   "id": "a05ad6a6",
   "metadata": {},
   "source": [
    "## Usage Example\n",
    "\n",
    "Let's create a simple dataset and train the SNN to distinguish between two patterns."
   ]
  },
  {
   "cell_type": "code",
   "execution_count": null,
   "id": "4dc32af2",
   "metadata": {},
   "outputs": [],
   "source": [
    "# Example data: two patterns (e.g., two digits)\n",
    "pattern1 = np.array([1, 0, 1, 0])\n",
    "pattern2 = np.array([0, 1, 0, 1])\n",
    "\n",
    "# Labels: [1, 0] for pattern1, [0, 1] for pattern2\n",
    "label1 = np.array([1, 0])\n",
    "label2 = np.array([0, 1])\n",
    "\n",
    "# Create the SNN\n",
    "snn = EasySNN(input_size=4, output_size=2)\n",
    "\n",
    "# Train for a few epochs\n",
    "for epoch in range(20):\n",
    "    snn.train(pattern1, label1)\n",
    "    snn.train(pattern2, label2)\n",
    "\n",
    "# Test the network\n",
    "print(\"Pattern 1 prediction:\", snn.forward(pattern1))\n",
    "print(\"Pattern 2 prediction:\", snn.forward(pattern2))"
   ]
  },
  {
   "cell_type": "markdown",
   "id": "d3dd82ec",
   "metadata": {},
   "source": [
    "This code provides a minimal and easy-to-understand SNN for binary classification. You can expand it to work with real MNIST data by converting images to binary spike patterns."
   ]
  }
 ],
 "metadata": {
  "language_info": {
   "name": "python"
  }
 },
 "nbformat": 4,
 "nbformat_minor": 5
}
